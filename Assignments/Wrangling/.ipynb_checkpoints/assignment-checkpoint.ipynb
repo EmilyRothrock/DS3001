{
 "cells": [
  {
   "cell_type": "markdown",
   "id": "13ad028b-72b7-43ed-aa78-96fd4e518040",
   "metadata": {
    "id": "13ad028b-72b7-43ed-aa78-96fd4e518040"
   },
   "source": [
    "# Assignment: Data Wrangling\n",
    "## `! git clone https://github.com/DS3001/wrangling`\n",
    "## Do Q2, and one of Q1 or Q3."
   ]
  },
  {
   "cell_type": "markdown",
   "id": "5735a4d4-8be8-433a-a351-70eb8002e632",
   "metadata": {
    "id": "5735a4d4-8be8-433a-a351-70eb8002e632"
   },
   "source": [
    "**Q1.** Open the \"tidy_data.pdf\" document in the repo, which is a paper called Tidy Data by Hadley Wickham.\n",
    "\n",
    "  1. Read the abstract. What is this paper about?\n",
    "  \n",
    "    The paper describes a technique to structure datasets for analysis by making any variable for a data set as a column, any observation as a row, and groups of observations as a table together.\n",
    "  \n",
    "  2. Read the introduction. What is the \"tidy data standard\" intended to accomplish?\n",
    "  \n",
    "    It is meant to probing and analysis of data when first looked at, and to enable easy, effective use of different data analysis tools together. It also intends to accomplish standardardization of data cleaning so that anyone knows the steps involved.\n",
    "  \n",
    "  3. Read the intro to section 2. What does this sentence mean: \"Like families, tidy datasets are all alike but every messy dataset is messy in its own way.\" What does this sentence mean: \"For a given dataset, it’s usually easy to figure out what are observations and what are variables, but it is surprisingly difficult to precisely define variables and observations in general.\"\n",
    "  \n",
    "    For sentence one, the meaning that came across was that tidy datasets all have common structures that make them tidy, but every messy dataset has different characteristics that make it messy. For sentence two, what was conveyed was that while it is easy to identify characteristics that could be considered variables or observations, it is harder to actually decide whether those individual characteristics belong in the variable category or the observation category.\n",
    "  \n",
    "  4. Read Section 2.2. How does Wickham define values, variables, and observations?\n",
    "  \n",
    "    Values = a numerical or written quantity (normally numbers or strings)\n",
    "    Variables = any object with value(s) assigned to it that measure the same underlying attribute\n",
    "    Observation = any object with value(s) assigned to it that measure the same unit across attribute\n",
    "  \n",
    "  5. How is \"Tidy Data\" defined in section 2.3?\n",
    "  \n",
    "    \"Tidy data is a standarized way of mapping the meaning of a dataset to its structure\" where each variable is a column, each observation is a row, and each type of observational unit is a table. If this is not true then the data is not tidy.\n",
    "  \n",
    "  6. Read the intro to Section 3 and Section 3.1. What are the 5 most common problems with messy datasets? Why are the data in Table 4 messy? What is \"melting\" a dataset?\n",
    "  \n",
    "    The five most common probles with messy datasets are as follows: 1) Column headers are values, not variable names, 2) Multiple variables are stored in one column, 3) Variables are stored in both rows and columns, 4) Multiple types of observational units are stored in the same table, 5) A single observational unit is stored in multiple tables. The data in table four is messy because religion is shown in the rows, income in the columns, and frequency in cells, when these variables should all be columns. Melting a database is turning columns into rows. \n",
    "  \n",
    "  7. Why, specifically, is table 11 messy but table 12 tidy and \"molten\"?\n",
    "  \n",
    "    Table 11 is messy because there are a whole bunch of repeated values and because it has variables that are spread across multiple columns instead of one column. Table 12 is molten because while variables aren't spread across multiple columns, there are two variables in multiple rows: tmax and tmin.\n",
    "  \n",
    "  \n",
    "  8. Read Section 6. What is the \"chicken-and-egg\" problem with focusing on tidy data? What does Wickham hope happens in the future with further work on the subject of data wrangling?\n",
    "  \n",
    "    The \"chicken-and-egg\" problems refers to the inextricable link between tidy tools and tidy data, because one is only as good as the other. In the future, Wichham hopes this leads to more and better tools and systems that can be used for data science.\n",
    "  "
   ]
  },
  {
   "cell_type": "markdown",
   "id": "da879ea7-8aac-48a3-b6c2-daea56d2e072",
   "metadata": {
    "id": "da879ea7-8aac-48a3-b6c2-daea56d2e072"
   },
   "source": [
    "***Q2.1***\n",
    "Numeric variable: For `./data/airbnb_hw.csv`, clean the `Price` variable as well as you can, and explain the choices you make. How many missing values do you end up with? (Hint: What happens to the formatting when a price goes over 999 dollars, say from 675 to 1,112?)\n",
    "\n",
    "Shockingly, there weren't any missing values for Price as far as I can tell because there were no NaN values in the Price column, so I didn't have to exclude any. For cleaning, I replaced the comma used for thousands with nothing so that all the numbers had the same format."
   ]
  },
  {
   "cell_type": "code",
   "execution_count": 92,
   "id": "d84680f1",
   "metadata": {},
   "outputs": [
    {
     "name": "stdout",
     "output_type": "stream",
     "text": [
      "Number of Null Values: 0\n"
     ]
    }
   ],
   "source": [
    "# RESOURCES\n",
    "# https://towardsdatascience.com/how-to-read-csv-file-using-pandas-ab1f5e7e7b58\n",
    "# https://pandas.pydata.org/docs/reference/api/pandas.Series.str.replace.html\n",
    "# https://saturncloud.io/blog/how-to-count-nan-and-null-values-in-a-pandas-dataframe/\n",
    "\n",
    "import pandas as pd\n",
    "airbnb = pd.read_csv ('./data/airbnb_hw.csv')\n",
    "price = airbnb['Price']\n",
    "print(f\"Number of Null Values: {airbnb['Price'].isna().sum()}\")\n",
    "price = price.str.replace(',','')\n",
    "airbnb['Price'] = price"
   ]
  },
  {
   "cell_type": "markdown",
   "id": "ee82a8cd",
   "metadata": {
    "id": "da879ea7-8aac-48a3-b6c2-daea56d2e072"
   },
   "source": [
    "***Q2.2***\n",
    "Categorical variable: For the ./data/sharks.csv data covered in the lecture, clean the \"Type\" variable as well as you can, and explain the choices you make.\n",
    "\n",
    "I replaced a lot of similar/duplicate columns with one column title and also replaced any questionable values with NaN"
   ]
  },
  {
   "cell_type": "code",
   "execution_count": 96,
   "id": "d9d6fec2",
   "metadata": {},
   "outputs": [],
   "source": [
    "import numpy as np\n",
    "\n",
    "sharks = pd.read_csv ('./data/sharks.csv', low_memory=False)\n",
    "type = sharks[\"Type\"]\n",
    "type = type.replace(['Unconfirmed', 'Unverified', 'Invalid', 'Under investigation', 'Questionable'], np.nan)\n",
    "type = type.replace(['Boat', 'Boating', 'Watercraft', 'Boatomg'], 'Water Vehicle')\n",
    "sharks['Type'] = type"
   ]
  },
  {
   "cell_type": "markdown",
   "id": "dc85c1d3",
   "metadata": {
    "id": "da879ea7-8aac-48a3-b6c2-daea56d2e072"
   },
   "source": [
    "***Q2.3***\n",
    "Dummy variable: For the pretrial data covered in the lecture, clean the `WhetherDefendantWasReleasedPretrial` variable as well as you can, and, in particular, replace missing values with `np.nan`.\n",
    "\n",
    "Based on the PDF related to the data, a value of nine means that it is unclear whether someone has been released, so I made those cells to be empty."
   ]
  },
  {
   "cell_type": "code",
   "execution_count": 97,
   "id": "67a7bcc4",
   "metadata": {},
   "outputs": [
    {
     "name": "stdout",
     "output_type": "stream",
     "text": [
      "[9 0 1]\n",
      "WhetherDefendantWasReleasedPretrial\n",
      "1.0    19154\n",
      "0.0     3801\n",
      "Name: count, dtype: int64\n"
     ]
    }
   ],
   "source": [
    "df = pd.read_csv('./data/VirginiaPretrialData2017.csv', low_memory=False)\n",
    "print(df['WhetherDefendantWasReleasedPretrial'].unique())\n",
    "df['WhetherDefendantWasReleasedPretrial'] = df['WhetherDefendantWasReleasedPretrial'].replace(9,np.nan)\n",
    "print(df['WhetherDefendantWasReleasedPretrial'].value_counts())"
   ]
  },
  {
   "cell_type": "markdown",
   "id": "62e927b8",
   "metadata": {
    "id": "da879ea7-8aac-48a3-b6c2-daea56d2e072"
   },
   "source": [
    "***Q2.3***\n",
    "4. Missing values, not at random: For the pretrial data covered in the lecture, clean the `ImposedSentenceAllChargeInContactEvent` variable as well as you can, and explain the choices you make. (Hint: Look at the `SentenceTypeAllChargesAtConvictionInContactEvent` variable.)\n"
   ]
  },
  {
   "cell_type": "code",
   "execution_count": 133,
   "id": "4a82f0c8",
   "metadata": {},
   "outputs": [
    {
     "name": "stdout",
     "output_type": "stream",
     "text": [
      "SentenceTypeAllChargesAtConvictionInContactEvent\n",
      "4    8779\n",
      "0    8720\n",
      "1    4299\n",
      "2     914\n",
      "9     274\n",
      "Name: count, dtype: int64\n",
      "\n",
      "ImposedSentenceAllChargeInContactEvent\n",
      "16.1498973305955        1\n",
      "37                      1\n",
      "132.328542094456        1\n",
      "35.952772073922         1\n",
      "7.6570841889117         1\n",
      "                    ...  \n",
      "3                     787\n",
      "6                     809\n",
      ".985626283367556     1051\n",
      "12                   1404\n",
      "0                   13732\n",
      "Name: count, Length: 483, dtype: int64\n",
      "\n"
     ]
    }
   ],
   "source": [
    "# RESOURCES\n",
    "# https://saturncloud.io/blog/how-to-count-nan-and-null-values-in-a-pandas-dataframe/#:~:text=To%20count%20the%20number%20of%20null%20values%20in%20a%20Pandas,the%20number%20of%20True%20values.\n",
    "# https://pandas.pydata.org/docs/reference/api/pandas.DataFrame.loc.html\n",
    "# https://www.geeksforgeeks.org/how-to-count-distinct-values-of-a-pandas-dataframe-column/\n",
    "\n",
    "import pandas as pd\n",
    "sentence_length = \"ImposedSentenceAllChargeInContactEvent\"\n",
    "sentence_type = \"SentenceTypeAllChargesAtConvictionInContactEvent\"\n",
    "\n",
    "df = pd.read_csv('./data/VirginiaPretrialData2017.csv', low_memory=False)\n",
    "print(f'{df[sentence_type].value_counts()}\\n')\n",
    "\n",
    "df.loc[df[sentence_type] == 4, sentence_length] = '0'                                                                 \n",
    "df.loc[df[sentence_type] == 9, sentence_length] = np.nan                                                                                                                                          \n",
    "df[sentence_type] = pd.to_numeric(df[sentence_type])\n",
    "      \n",
    "print(f'{df[sentence_length].value_counts().sort_values()}\\n')"
   ]
  },
  {
   "cell_type": "code",
   "execution_count": 103,
   "id": "cd2b257d",
   "metadata": {},
   "outputs": [
    {
     "name": "stdout",
     "output_type": "stream",
     "text": [
      "9053 \n",
      "\n",
      "SentenceTypeAllChargesAtConvictionInContactEvent     0     1    2     4    9\n",
      "ImposedSentenceAllChargeInContactEvent                                      \n",
      "False                                             8720  4299  914     0    0\n",
      "True                                                 0     0    0  8779  274 \n",
      "\n",
      "SentenceTypeAllChargesAtConvictionInContactEvent     0     1    2     4    9\n",
      "ImposedSentenceAllChargeInContactEvent                                      \n",
      "False                                             8720  4299  914  8779    0\n",
      "True                                                 0     0    0     0  274 \n",
      "\n",
      "274 \n",
      "\n"
     ]
    }
   ],
   "source": [
    "df = pd.read_csv('./data/VirginiaPretrialData2017.csv', low_memory=False)\n",
    "\n",
    "length = pd.to_numeric(length,errors='coerce') # Coerce to numeric\n",
    "length_NA = length.isnull() # Create a missing dummy\n",
    "print( np.sum(length_NA),'\\n') # 9k missing values of 23k, not so good\n",
    "\n",
    "print( pd.crosstab(length_NA, type), '\\n') # Category 4 is cases where the charges were dismissed\n",
    "\n",
    "length = length.mask( type == 4, 0) # Replace length with 0 when type ==4\n",
    "length = length.mask( type == 9, np.nan) # Replace length with np.nan when type == 9\n",
    "\n",
    "length_NA = length.isnull() # Create a new missing dummy\n",
    "print( pd.crosstab(length_NA, type), '\\n')\n",
    "print( np.sum(length_NA),'\\n') # 274 missing, much better\n",
    "\n",
    "df['ImposedSentenceAllChargeInContactEvent'] = length # Replace data with cleaned version\n",
    "del length, type # Delete temporary length/type variables\n"
   ]
  },
  {
   "cell_type": "markdown",
   "id": "649494cd-cfd6-4f80-992a-9994fc19e1d5",
   "metadata": {
    "id": "649494cd-cfd6-4f80-992a-9994fc19e1d5"
   },
   "source": [
    "**Q3.** Many important datasets contain a race variable, typically limited to a handful of values often including Black, White, Asian, Latino, and Indigenous. This question looks at data gathering efforts on this variable by the U.S. Federal government.\n",
    "\n",
    "1. How did the most recent US Census gather data on race?\n",
    "2. Why do we gather these data? What role do these kinds of data play in politics and society? Why does data quality matter?\n",
    "3. Please provide a constructive criticism of how the Census was conducted: What was done well? What do you think was missing? How should future large scale surveys be adjusted to best reflect the diversity of the population? Could some of the Census' good practices be adopted more widely to gather richer and more useful data?\n",
    "4. How did the Census gather data on sex and gender? Please provide a similar constructive criticism of their practices.\n",
    "5. When it comes to cleaning data, what concerns do you have about protected characteristics like sex, gender, sexual identity, or race? What challenges can you imagine arising when there are missing values? What good or bad practices might people adopt, and why?\n",
    "6. Suppose someone invented an algorithm to impute values for protected characteristics like race, gender, sex, or sexuality. What kinds of concerns would you have?"
   ]
  }
 ],
 "metadata": {
  "colab": {
   "provenance": []
  },
  "kernelspec": {
   "display_name": "Python 3 (ipykernel)",
   "language": "python",
   "name": "python3"
  },
  "language_info": {
   "codemirror_mode": {
    "name": "ipython",
    "version": 3
   },
   "file_extension": ".py",
   "mimetype": "text/x-python",
   "name": "python",
   "nbconvert_exporter": "python",
   "pygments_lexer": "ipython3",
   "version": "3.11.4"
  }
 },
 "nbformat": 4,
 "nbformat_minor": 5
}
